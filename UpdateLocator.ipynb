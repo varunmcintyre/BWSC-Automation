{
 "cells": [
  {
   "cell_type": "markdown",
   "id": "638715cf",
   "metadata": {},
   "source": [
    "# Update Locator"
   ]
  },
  {
   "cell_type": "markdown",
   "id": "d1d0bad1",
   "metadata": {},
   "source": [
    "Open the ArcGIS Pro project file Arcgis_Pro_Locators on GISCLIENT2 server.\n",
    "\n",
    "Copy the following code into the ArcGIS Pro Python window and hit enter twice to run:"
   ]
  },
  {
   "cell_type": "code",
   "execution_count": null,
   "id": "f55dfc14",
   "metadata": {},
   "outputs": [],
   "source": [
    "import os\n",
    "import arcpy\n",
    "\n",
    "# Name the folder where the new geodatabase is stored in the format DatabaseName_MMYY (ex. SQLDEV_0622)\n",
    "FOLDER_NAME = \"SQLDEV_1223\"\n",
    "\n",
    "# Path where the new folder is stored\n",
    "FOLDER_PATH = r\"C:/GIS/Locators/\"+FOLDER_NAME\n",
    "\n",
    "# Creates directory for folder\n",
    "os.mkdir(FOLDER_PATH)\n",
    "\n",
    "# Creates new file geodatabase in the new folder\n",
    "arcpy.management.CreateFileGDB(FOLDER_PATH, \"Locator_Data\", \"CURRENT\")\n",
    "\n",
    "# Loops through specific feature layers and converts them to point layers\n",
    "point_layers = [\"WATER_SERVICE\", \"WATER_MAIN\", \"SEWER_LINE\"]\n",
    "for layer in point_layers:\n",
    "    point_output = FOLDER_PATH+\"/Locator_Data.gdb/\"+layer+\"_POINT\"\n",
    "    arcpy.management.FeatureToPoint(layer, point_output, \"CENTROID\")\n",
    "\n",
    "# Moves the remaining feature layers to the new geodatabase\n",
    "fc_gdb_inputs = \"CATCH_BASIN;FIRE_HYDRANT;MANHOLE;STREET_CENTERLINE;SYSTEM_VALVE\"\n",
    "fc_gdb_output = FOLDER_PATH+\"/Locator_Data.gdb\"\n",
    "arcpy.conversion.FeatureClassToGeodatabase(fc_gdb_inputs, fc_gdb_output)\n",
    "\n",
    "# Loops through all asset locator names, fills out the necessary parameters, and creates the locator\n",
    "locator_ids = ['WATER_SERVICE_POINT', 'WATER_MAIN_POINT', 'SEWER_LINE_POINT', 'SYSTEM_VALVE', 'FIRE_HYDRANT', 'MANHOLE', 'CATCH_BASIN']\n",
    "file_names = ['WaterService', 'WaterMain', 'SewerLine', 'SystemValve', 'FireHydrant', 'Manhole', 'CatchBasin']\n",
    "for i in range(len(locator_ids)):\n",
    "    primary_reference_data = locator_ids[i]+\" POI\"\n",
    "    field_map = \"'POI.FEATURE_ID \"+locator_ids[i]+\".FEATURE_ID';'POI.PLACE_NAME \"+locator_ids[i]+\".FACILITY_ID'\"\n",
    "    out_locator = FOLDER_PATH+\"/\"+file_names[i]\n",
    "    arcpy.geocoding.CreateLocator(\"USA\", primary_reference_data, field_map, out_locator, \"ENG\", None, None, None, \"GLOBAL_HIGH\")\n",
    "    \n",
    "# Sets up parameters for street address locator\n",
    "street_primary_reference = \"STREET_CENTERLINE StreetAddress\"\n",
    "street_field_map = \"'StreetAddress.FEATURE_ID STREET_CENTERLINE.FEATURE_ID';\\\n",
    "                    'StreetAddress.HOUSE_NUMBER_FROM_LEFT STREET_CENTERLINE.MIN_ADDRESS';\\\n",
    "                    'StreetAddress.HOUSE_NUMBER_TO_LEFT STREET_CENTERLINE.MAX_ADDRESS';\\\n",
    "                    'StreetAddress.HOUSE_NUMBER_FROM_RIGHT STREET_CENTERLINE.MIN_ADDRESS';\\\n",
    "                    'StreetAddress.HOUSE_NUMBER_TO_RIGHT STREET_CENTERLINE.MAX_ADDRESS';\\\n",
    "                    'StreetAddress.PARITY_LEFT STREET_CENTERLINE.PARITY';\\\n",
    "                    'StreetAddress.PARITY_RIGHT STREET_CENTERLINE.PARITY';\\\n",
    "                    'StreetAddress.STREET_PREFIX_DIR STREET_CENTERLINE.STREET_PREFIX_CODE';\\\n",
    "                    'StreetAddress.STREET_NAME STREET_CENTERLINE.STREET_NAME';\\\n",
    "                    'StreetAddress.STREET_SUFFIX_TYPE STREET_CENTERLINE.STREET_TYPE_CODE';\\\n",
    "                    'StreetAddress.STREET_SUFFIX_DIR STREET_CENTERLINE.STREET_SUFFIX_CODE';\\\n",
    "                    'StreetAddress.FULL_STREET_NAME STREET_CENTERLINE.COMPLETE_STREET_NAME';\\\n",
    "                    'StreetAddress.CITY_LEFT STREET_CENTERLINE.NEIGHBORHOOD_DESC';\\\n",
    "                    'StreetAddress.CITY_RIGHT STREET_CENTERLINE.NEIGHBORHOOD_DESC'\"\n",
    "out_street_locator = FOLDER_PATH+\"/StreetAddress\"\n",
    "\n",
    "# Creates StreetAddress locator\n",
    "arcpy.geocoding.CreateLocator(\"USA\", street_primary_reference, street_field_map, out_street_locator, \"ENG\", None, None, None, \"GLOBAL_HIGH\")"
   ]
  },
  {
   "cell_type": "markdown",
   "id": "592b9860",
   "metadata": {},
   "source": [
    "After the code above is done running, in the Catalog pane, right-click Folders > Add Folder Connection > Navigate to the newly created folder (DatabaseName_MMYY)\n",
    "\n",
    "**Repeat manually for each new locator:**\n",
    "1. In the Catalog pane, expand the new folder. Right-click a newly created locator and choose Locator Properties.\n",
    "2. Click on Geocoding options in the left panel of the Locator Properties window.\n",
    "3. For all EXCEPT StreetAddress (CatchBasin, Fire Hydrant, Manhole, SewerLine, SystemValve, WaterMain, WaterService):\n",
    "    - set Minimum match score to 100 \n",
    "4. For StreetAddress ONLY:\n",
    "    - set Minimum candidate score to 35\n",
    "    - set Side offset to 0\n",
    "    - set Match with No Zones to Yes\n",
    "5. Click OK.\n",
    "\n",
    "Copy the code below into the Python window and run:"
   ]
  },
  {
   "cell_type": "code",
   "execution_count": null,
   "id": "2b0e6571",
   "metadata": {},
   "outputs": [],
   "source": [
    "# Selects all asset locators for the composite locator\n",
    "address_locators = FOLDER_PATH+\"/CatchBasin.loc CatchBasin;\"+FOLDER_PATH+\"/FireHydrant.loc FireHydrant;\"+FOLDER_PATH+\"/Manhole.loc Manhole;\"+FOLDER_PATH+\"/SewerLine.loc SewerLine;\"+FOLDER_PATH+\"/SystemValve.loc SystemValve;\"+FOLDER_PATH+\"/WaterService.loc WaterService;\"+FOLDER_PATH+\"/WaterMain.loc WaterMain\"\n",
    "\n",
    "# Field mapping split up into 10 parts\n",
    "address1 = r'Address \"Address or Place\" true true false 100 Text 0 0,First,#,'+FOLDER_PATH+'/CatchBasin.loc,Address,0,0,'+FOLDER_PATH+'/FireHydrant.loc,Address,0,0,'+FOLDER_PATH+'/Manhole.loc,Address,0,0,'+FOLDER_PATH+'/SewerLine.loc,Address,0,0,'+FOLDER_PATH+'/SystemValve.loc,Address,0,0,'+FOLDER_PATH+'/WaterService.loc,Address,0,0,'+FOLDER_PATH+'/WaterMain.loc,Address,0,0;'\n",
    "address2 = r'Address2 \"Address2\" true true false 100 Text 0 0,First,#,'+FOLDER_PATH+'/CatchBasin.loc,Address2,0,0,'+FOLDER_PATH+'/FireHydrant.loc,Address2,0,0,'+FOLDER_PATH+'/Manhole.loc,Address2,0,0,'+FOLDER_PATH+'/SewerLine.loc,Address2,0,0,'+FOLDER_PATH+'/SystemValve.loc,Address2,0,0,'+FOLDER_PATH+'/WaterService.loc,Address2,0,0,'+FOLDER_PATH+'/WaterMain.loc,Address2,0,0;'\n",
    "address3 = r'Address3 \"Address3\" true true false 100 Text 0 0,First,#,'+FOLDER_PATH+'/CatchBasin.loc,Address3,0,0,'+FOLDER_PATH+'/FireHydrant.loc,Address3,0,0,'+FOLDER_PATH+'/Manhole.loc,Address3,0,0,'+FOLDER_PATH+'/SewerLine.loc,Address3,0,0,'+FOLDER_PATH+'/SystemValve.loc,Address3,0,0,'+FOLDER_PATH+'/WaterService.loc,Address3,0,0,'+FOLDER_PATH+'/WaterMain.loc,Address3,0,0;'\n",
    "neighborhood = r'Neighborhood \"Neighborhood\" true true false 50 Text 0 0,First,#,'+FOLDER_PATH+'/CatchBasin.loc,Neighborhood,0,0,'+FOLDER_PATH+'/FireHydrant.loc,Neighborhood,0,0,'+FOLDER_PATH+'/Manhole.loc,Neighborhood,0,0,'+FOLDER_PATH+'/SewerLine.loc,Neighborhood,0,0,'+FOLDER_PATH+'/SystemValve.loc,Neighborhood,0,0,'+FOLDER_PATH+'/WaterService.loc,Neighborhood,0,0,'+FOLDER_PATH+'/WaterMain.loc,Neighborhood,0,0;'\n",
    "city = r'City \"City\" true true false 50 Text 0 0,First,#,'+FOLDER_PATH+'/CatchBasin.loc,City,0,0,'+FOLDER_PATH+'/FireHydrant.loc,City,0,0,'+FOLDER_PATH+'/Manhole.loc,City,0,0,'+FOLDER_PATH+'/SewerLine.loc,City,0,0,'+FOLDER_PATH+'/SystemValve.loc,City,0,0,'+FOLDER_PATH+'/WaterService.loc,City,0,0,'+FOLDER_PATH+'/WaterMain.loc,City,0,0;'\n",
    "subregion = r'Subregion \"County\" true true false 50 Text 0 0,First,#,'+FOLDER_PATH+'/CatchBasin.loc,Subregion,0,0,'+FOLDER_PATH+'/FireHydrant.loc,Subregion,0,0,'+FOLDER_PATH+'/Manhole.loc,Subregion,0,0,'+FOLDER_PATH+'/SewerLine.loc,Subregion,0,0,'+FOLDER_PATH+'/SystemValve.loc,Subregion,0,0,'+FOLDER_PATH+'/WaterService.loc,Subregion,0,0,'+FOLDER_PATH+'/WaterMain.loc,Subregion,0,0;'\n",
    "region = r'Region \"State\" true true false 50 Text 0 0,First,#,'+FOLDER_PATH+'/CatchBasin.loc,Region,0,0,'+FOLDER_PATH+'/FireHydrant.loc,Region,0,0,'+FOLDER_PATH+'/Manhole.loc,Region,0,0,'+FOLDER_PATH+'/SewerLine.loc,Region,0,0,'+FOLDER_PATH+'/SystemValve.loc,Region,0,0,'+FOLDER_PATH+'/WaterService.loc,Region,0,0,'+FOLDER_PATH+'/WaterMain.loc,Region,0,0;'\n",
    "postal = r'Postal \"ZIP\" true true false 20 Text 0 0,First,#,'+FOLDER_PATH+'/CatchBasin.loc,Postal,0,0,'+FOLDER_PATH+'/FireHydrant.loc,Postal,0,0,'+FOLDER_PATH+'/Manhole.loc,Postal,0,0,'+FOLDER_PATH+'/SewerLine.loc,Postal,0,0,'+FOLDER_PATH+'/SystemValve.loc,Postal,0,0,'+FOLDER_PATH+'/WaterService.loc,Postal,0,0,'+FOLDER_PATH+'/WaterMain.loc,Postal,0,0;'\n",
    "postalext = r'PostalExt \"ZIP4\" true true false 20 Text 0 0,First,#,'+FOLDER_PATH+'/CatchBasin.loc,PostalExt,0,0,'+FOLDER_PATH+'/FireHydrant.loc,PostalExt,0,0,'+FOLDER_PATH+'/Manhole.loc,PostalExt,0,0,'+FOLDER_PATH+'/SewerLine.loc,PostalExt,0,0,'+FOLDER_PATH+'/SystemValve.loc,PostalExt,0,0,'+FOLDER_PATH+'/WaterService.loc,PostalExt,0,0,'+FOLDER_PATH+'/WaterMain.loc,PostalExt,0,0;'\n",
    "countrycode = r'CountryCode \"Country\" true true false 100 Text 0 0,First,#,'+FOLDER_PATH+'/CatchBasin.loc,CountryCode,0,0,'+FOLDER_PATH+'/FireHydrant.loc,CountryCode,0,0,'+FOLDER_PATH+'/Manhole.loc,CountryCode,0,0,'+FOLDER_PATH+'/SewerLine.loc,CountryCode,0,0,'+FOLDER_PATH+'/SystemValve.loc,CountryCode,0,0,'+FOLDER_PATH+'/WaterService.loc,CountryCode,0,0,'+FOLDER_PATH+'/WaterMain.loc,CountryCode,0,0'\n",
    "\n",
    "# Combines all parts of the field map\n",
    "composite_field_map = address1 + address2 + address3 + neighborhood + city + subregion + region + postal + postalext + countrycode\n",
    "\n",
    "# Sets selection criteria and output\n",
    "selection_criteria = \"CatchBasin #;FireHydrant #;Manhole #;SewerLine #;SystemValve #;WaterService #;WaterMain #\"\n",
    "out_composite_locator = FOLDER_PATH+\"/BWSC_Locator\"\n",
    "\n",
    "# Creates composite locator\n",
    "arcpy.geocoding.CreateCompositeAddressLocator(address_locators, composite_field_map, selection_criteria, out_composite_locator)"
   ]
  }
 ],
 "metadata": {
  "kernelspec": {
   "display_name": "Python 3 (ipykernel)",
   "language": "python",
   "name": "python3"
  },
  "language_info": {
   "codemirror_mode": {
    "name": "ipython",
    "version": 3
   },
   "file_extension": ".py",
   "mimetype": "text/x-python",
   "name": "python",
   "nbconvert_exporter": "python",
   "pygments_lexer": "ipython3",
   "version": "3.8.15"
  }
 },
 "nbformat": 4,
 "nbformat_minor": 5
}

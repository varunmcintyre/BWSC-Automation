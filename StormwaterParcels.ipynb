{
 "cells": [
  {
   "cell_type": "markdown",
   "id": "312f5e1a",
   "metadata": {},
   "source": [
    "# Stormwater Parcels containing Building Footprints"
   ]
  },
  {
   "cell_type": "code",
   "execution_count": null,
   "id": "6ee8d884",
   "metadata": {},
   "outputs": [],
   "source": [
    "import arcpy\n",
    "\n",
    "# add data from spreadsheet to map manually\n",
    "\n",
    "# define global static variables\n",
    "GDB = 'MyProject.gdb' # name of current geodatabase\n",
    "PARCELS = 'Stormwater_Parcels'\n",
    "FPRNTS = 'Building_Footprints'\n",
    "DATA = 'SWO_Set2$' # change number to whichever is the current set\n",
    "\n",
    "# export parcel feature class as a copy\n",
    "arcpy.conversion.FeatureClassToFeatureClass('Landbase\\\\Parcel', GDB, PARCELS)\n",
    "\n",
    "# make feature layer with only building footprints\n",
    "arcpy.management.MakeFeatureLayer('Landbase\\\\Building', FPRNTS, 'Where FEATURE_CODE = 'BFPRNT'')\n",
    "\n",
    "# add join spreadsheet data to parcels\n",
    "arcpy.management.AddJoin(PARCELS, 'PARCEL_ID', DATA, 'MAP_PAR_ID', 'KEEP_COMMON')\n",
    "\n",
    "# select layer by location for parcels that contain building footprints\n",
    "arcpy.management.SelectLayerByLocation(PARCELS, 'Contains', FPRNTS)"
   ]
  },
  {
   "cell_type": "markdown",
   "id": "dfc5838e",
   "metadata": {},
   "source": [
    "After first use, Stormwater_Parcels and Building_Footprints are already created, so use the code below:"
   ]
  },
  {
   "cell_type": "code",
   "execution_count": null,
   "id": "1467cca6",
   "metadata": {},
   "outputs": [],
   "source": [
    "import arcpy\n",
    "\n",
    "# add data from spreadsheet to map manually\n",
    "\n",
    "# define global static variables\n",
    "GDB = 'MyProject.gdb' # name of current geodatabase\n",
    "PARCELS = 'Stormwater_Parcels'\n",
    "FPRNTS = 'Building_Footprints'\n",
    "DATA = 'SWO_Set4$' # change number to whichever is the current set\n",
    "\n",
    "# Remove join from Stormwater_Parcels so that add join can be run again\n",
    "arcpy.management.RemoveJoin(PARCELS)\n",
    "\n",
    "# add join spreadsheet data to parcels\n",
    "arcpy.management.AddJoin(PARCELS, 'PARCEL_ID', DATA, 'MAP_PAR_ID', 'KEEP_COMMON')\n",
    "\n",
    "# select layer by location for parcels that contain building footprints\n",
    "arcpy.management.SelectLayerByLocation(PARCELS, 'Contains', FPRNTS)"
   ]
  }
 ],
 "metadata": {
  "kernelspec": {
   "display_name": "Python 3 (ipykernel)",
   "language": "python",
   "name": "python3"
  },
  "language_info": {
   "codemirror_mode": {
    "name": "ipython",
    "version": 3
   },
   "file_extension": ".py",
   "mimetype": "text/x-python",
   "name": "python",
   "nbconvert_exporter": "python",
   "pygments_lexer": "ipython3",
   "version": "3.8.15"
  }
 },
 "nbformat": 4,
 "nbformat_minor": 5
}
